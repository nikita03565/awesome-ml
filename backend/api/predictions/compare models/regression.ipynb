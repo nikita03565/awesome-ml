{
 "cells": [
  {
   "cell_type": "code",
   "execution_count": 1,
   "metadata": {},
   "outputs": [],
   "source": [
    "import pandas as pd\n",
    "import os\n",
    "from sklearn.feature_extraction.text import CountVectorizer\n",
    "from sklearn.feature_extraction.text import TfidfTransformer\n",
    "from sklearn.linear_model import LinearRegression\n",
    "from sklearn.model_selection import train_test_split\n",
    "from xgboost import XGBRegressor\n",
    "from catboost import CatBoostRegressor\n",
    "from sklearn.ensemble import RandomForestRegressor\n",
    "from sklearn.metrics import mean_squared_error, mean_absolute_error\n",
    "import math"
   ]
  },
  {
   "cell_type": "code",
   "execution_count": 2,
   "metadata": {},
   "outputs": [],
   "source": [
    "df = pd.read_csv('data.csv')"
   ]
  },
  {
   "cell_type": "code",
   "execution_count": 3,
   "metadata": {},
   "outputs": [
    {
     "data": {
      "text/html": [
       "<div>\n",
       "<style scoped>\n",
       "    .dataframe tbody tr th:only-of-type {\n",
       "        vertical-align: middle;\n",
       "    }\n",
       "\n",
       "    .dataframe tbody tr th {\n",
       "        vertical-align: top;\n",
       "    }\n",
       "\n",
       "    .dataframe thead th {\n",
       "        text-align: right;\n",
       "    }\n",
       "</style>\n",
       "<table border=\"1\" class=\"dataframe\">\n",
       "  <thead>\n",
       "    <tr style=\"text-align: right;\">\n",
       "      <th></th>\n",
       "      <th>Unnamed: 0</th>\n",
       "      <th>id</th>\n",
       "      <th>data-story-long</th>\n",
       "      <th>rating</th>\n",
       "      <th>meta-rating</th>\n",
       "      <th>author_id</th>\n",
       "      <th>comments</th>\n",
       "      <th>dtm</th>\n",
       "      <th>views</th>\n",
       "      <th>saves</th>\n",
       "      <th>author_name</th>\n",
       "      <th>title</th>\n",
       "      <th>tags</th>\n",
       "      <th>text_lem</th>\n",
       "      <th>text_stem</th>\n",
       "    </tr>\n",
       "  </thead>\n",
       "  <tbody>\n",
       "    <tr>\n",
       "      <th>0</th>\n",
       "      <td>0</td>\n",
       "      <td>7337284</td>\n",
       "      <td>True</td>\n",
       "      <td>7727.0</td>\n",
       "      <td>7884:157</td>\n",
       "      <td>1002684</td>\n",
       "      <td>479</td>\n",
       "      <td>2020-04-02 15:12:18+03:00</td>\n",
       "      <td>NaN</td>\n",
       "      <td>181</td>\n",
       "      <td>ksenobianinSanta</td>\n",
       "      <td>Обычная история об обычном негодяе</td>\n",
       "      <td>['Коронавирус', 'Безответственность', 'Длинноп...</td>\n",
       "      <td>столичный ресторатор илья эстер сказочно прово...</td>\n",
       "      <td>столичн ресторатор ил эстер сказочн провод 8 м...</td>\n",
       "    </tr>\n",
       "    <tr>\n",
       "      <th>1</th>\n",
       "      <td>1</td>\n",
       "      <td>7337282</td>\n",
       "      <td>True</td>\n",
       "      <td>15.0</td>\n",
       "      <td>25:10</td>\n",
       "      <td>2008181</td>\n",
       "      <td>6</td>\n",
       "      <td>2020-04-02 15:11:33+03:00</td>\n",
       "      <td>NaN</td>\n",
       "      <td>4</td>\n",
       "      <td>Merey202</td>\n",
       "      <td>Гэбриел Бирн</td>\n",
       "      <td>['Биография', 'Ирландия', 'Актеры и актрисы', ...</td>\n",
       "      <td>ирландец  нести черный пес печаль   плечо  бе...</td>\n",
       "      <td>ирландец нест черн пес печал плеч бешен нрав г...</td>\n",
       "    </tr>\n",
       "    <tr>\n",
       "      <th>2</th>\n",
       "      <td>2</td>\n",
       "      <td>7337254</td>\n",
       "      <td>True</td>\n",
       "      <td>28.0</td>\n",
       "      <td>39:11</td>\n",
       "      <td>2522374</td>\n",
       "      <td>2</td>\n",
       "      <td>2020-04-02 15:01:49+03:00</td>\n",
       "      <td>NaN</td>\n",
       "      <td>11</td>\n",
       "      <td>Cat.Cat</td>\n",
       "      <td>Ещё немного о трибунате в Римской империи</td>\n",
       "      <td>['[моё]', 'Cat_cat', 'История', 'Рим', 'Римска...</td>\n",
       "      <td>обсуждение  пикабу  пост  особенность заклады...</td>\n",
       "      <td>обсужден пикаб пост особен закладыва цезар авг...</td>\n",
       "    </tr>\n",
       "    <tr>\n",
       "      <th>3</th>\n",
       "      <td>3</td>\n",
       "      <td>7337245</td>\n",
       "      <td>True</td>\n",
       "      <td>6.0</td>\n",
       "      <td>18:12</td>\n",
       "      <td>3073815</td>\n",
       "      <td>13</td>\n",
       "      <td>2020-04-02 14:58:46+03:00</td>\n",
       "      <td>NaN</td>\n",
       "      <td>0</td>\n",
       "      <td>vitaminys2</td>\n",
       "      <td>Эд Бакканский. Враг-государство</td>\n",
       "      <td>['Украина', 'Коронавирус', 'Государство', 'Дли...</td>\n",
       "      <td>сегодня  видеть    пол нервно озираться  сторо...</td>\n",
       "      <td>сегодн видет пол нервн озира сторон торгова до...</td>\n",
       "    </tr>\n",
       "    <tr>\n",
       "      <th>4</th>\n",
       "      <td>4</td>\n",
       "      <td>7337246</td>\n",
       "      <td>True</td>\n",
       "      <td>21.0</td>\n",
       "      <td>28:7</td>\n",
       "      <td>3156206</td>\n",
       "      <td>8</td>\n",
       "      <td>2020-04-02 14:58:20+03:00</td>\n",
       "      <td>NaN</td>\n",
       "      <td>5</td>\n",
       "      <td>ZloyElvis</td>\n",
       "      <td>Кнопки для проведения викторины</td>\n",
       "      <td>['[моё]', 'Arduino', 'Электроника', 'Самоделки...</td>\n",
       "      <td>приветствовать данный длиннопост   изготовлени...</td>\n",
       "      <td>приветствова дан длинноп изготовлен оборудован...</td>\n",
       "    </tr>\n",
       "  </tbody>\n",
       "</table>\n",
       "</div>"
      ],
      "text/plain": [
       "   Unnamed: 0       id  data-story-long  rating meta-rating  author_id  \\\n",
       "0           0  7337284             True  7727.0    7884:157    1002684   \n",
       "1           1  7337282             True    15.0       25:10    2008181   \n",
       "2           2  7337254             True    28.0       39:11    2522374   \n",
       "3           3  7337245             True     6.0       18:12    3073815   \n",
       "4           4  7337246             True    21.0        28:7    3156206   \n",
       "\n",
       "   comments                        dtm  views  saves       author_name  \\\n",
       "0       479  2020-04-02 15:12:18+03:00    NaN    181  ksenobianinSanta   \n",
       "1         6  2020-04-02 15:11:33+03:00    NaN      4          Merey202   \n",
       "2         2  2020-04-02 15:01:49+03:00    NaN     11           Cat.Cat   \n",
       "3        13  2020-04-02 14:58:46+03:00    NaN      0        vitaminys2   \n",
       "4         8  2020-04-02 14:58:20+03:00    NaN      5         ZloyElvis   \n",
       "\n",
       "                                       title  \\\n",
       "0         Обычная история об обычном негодяе   \n",
       "1                               Гэбриел Бирн   \n",
       "2  Ещё немного о трибунате в Римской империи   \n",
       "3            Эд Бакканский. Враг-государство   \n",
       "4            Кнопки для проведения викторины   \n",
       "\n",
       "                                                tags  \\\n",
       "0  ['Коронавирус', 'Безответственность', 'Длинноп...   \n",
       "1  ['Биография', 'Ирландия', 'Актеры и актрисы', ...   \n",
       "2  ['[моё]', 'Cat_cat', 'История', 'Рим', 'Римска...   \n",
       "3  ['Украина', 'Коронавирус', 'Государство', 'Дли...   \n",
       "4  ['[моё]', 'Arduino', 'Электроника', 'Самоделки...   \n",
       "\n",
       "                                            text_lem  \\\n",
       "0  столичный ресторатор илья эстер сказочно прово...   \n",
       "1   ирландец  нести черный пес печаль   плечо  бе...   \n",
       "2   обсуждение  пикабу  пост  особенность заклады...   \n",
       "3  сегодня  видеть    пол нервно озираться  сторо...   \n",
       "4  приветствовать данный длиннопост   изготовлени...   \n",
       "\n",
       "                                           text_stem  \n",
       "0  столичн ресторатор ил эстер сказочн провод 8 м...  \n",
       "1  ирландец нест черн пес печал плеч бешен нрав г...  \n",
       "2  обсужден пикаб пост особен закладыва цезар авг...  \n",
       "3  сегодн видет пол нервн озира сторон торгова до...  \n",
       "4  приветствова дан длинноп изготовлен оборудован...  "
      ]
     },
     "execution_count": 3,
     "metadata": {},
     "output_type": "execute_result"
    }
   ],
   "source": [
    "df.head()"
   ]
  },
  {
   "cell_type": "markdown",
   "metadata": {},
   "source": [
    "### 1. Лемматизация"
   ]
  },
  {
   "cell_type": "code",
   "execution_count": 4,
   "metadata": {},
   "outputs": [],
   "source": [
    "df_lem = df[['text_lem', 'rating']].dropna()"
   ]
  },
  {
   "cell_type": "code",
   "execution_count": 5,
   "metadata": {},
   "outputs": [],
   "source": [
    "X, y = df_lem['text_lem'], df_lem['rating']"
   ]
  },
  {
   "cell_type": "code",
   "execution_count": 6,
   "metadata": {},
   "outputs": [
    {
     "data": {
      "text/plain": [
       "(132849, 1000)"
      ]
     },
     "execution_count": 6,
     "metadata": {},
     "output_type": "execute_result"
    }
   ],
   "source": [
    "vectorizer = CountVectorizer(max_features=1000, min_df=5, max_df=0.7)\n",
    "X_countVectorizer = vectorizer.fit_transform(X).toarray()\n",
    "X_countVectorizer.shape"
   ]
  },
  {
   "cell_type": "code",
   "execution_count": 7,
   "metadata": {},
   "outputs": [],
   "source": [
    "tfidfconverter = TfidfTransformer()\n",
    "X_tfIdf = tfidfconverter.fit_transform(X_countVectorizer).toarray()"
   ]
  },
  {
   "cell_type": "code",
   "execution_count": 8,
   "metadata": {},
   "outputs": [],
   "source": [
    "X_train, X_test, y_train, y_test = train_test_split(X_tfIdf, y, test_size=0.2, random_state=0)"
   ]
  },
  {
   "cell_type": "markdown",
   "metadata": {},
   "source": [
    "#### 1. 1. Линейная регрессия"
   ]
  },
  {
   "cell_type": "code",
   "execution_count": 45,
   "metadata": {},
   "outputs": [],
   "source": [
    "reg = LinearRegression().fit(X_train, y_train)\n",
    "y_pred = reg.predict(X_test)"
   ]
  },
  {
   "cell_type": "code",
   "execution_count": 46,
   "metadata": {},
   "outputs": [
    {
     "data": {
      "text/plain": [
       "1160901.8876754607"
      ]
     },
     "execution_count": 46,
     "metadata": {},
     "output_type": "execute_result"
    }
   ],
   "source": [
    "mean_squared_error(y_test, y_pred)"
   ]
  },
  {
   "cell_type": "code",
   "execution_count": 47,
   "metadata": {},
   "outputs": [
    {
     "data": {
      "text/plain": [
       "407.3855941394469"
      ]
     },
     "execution_count": 47,
     "metadata": {},
     "output_type": "execute_result"
    }
   ],
   "source": [
    "mean_absolute_error(y_test, y_pred)"
   ]
  },
  {
   "cell_type": "markdown",
   "metadata": {},
   "source": [
    "#### 1. 2. XGBoost"
   ]
  },
  {
   "cell_type": "code",
   "execution_count": 48,
   "metadata": {},
   "outputs": [],
   "source": [
    "model = XGBRegressor()\n",
    "model.fit(X_train, y_train, verbose=False)\n",
    "y_pred_xgboost = model.predict(X_test)"
   ]
  },
  {
   "cell_type": "code",
   "execution_count": 49,
   "metadata": {},
   "outputs": [
    {
     "data": {
      "text/plain": [
       "1231175.5079510491"
      ]
     },
     "execution_count": 49,
     "metadata": {},
     "output_type": "execute_result"
    }
   ],
   "source": [
    "mean_squared_error(y_test, y_pred_xgboost)"
   ]
  },
  {
   "cell_type": "code",
   "execution_count": 50,
   "metadata": {},
   "outputs": [
    {
     "data": {
      "text/plain": [
       "406.3181802848014"
      ]
     },
     "execution_count": 50,
     "metadata": {},
     "output_type": "execute_result"
    }
   ],
   "source": [
    "mean_absolute_error(y_test, y_pred_xgboost)"
   ]
  },
  {
   "cell_type": "markdown",
   "metadata": {},
   "source": [
    "#### 1.3. CatBoost"
   ]
  },
  {
   "cell_type": "code",
   "execution_count": 9,
   "metadata": {},
   "outputs": [],
   "source": [
    "model = CatBoostRegressor(iterations=100, learning_rate=0.1, depth=8, verbose=False)\n",
    "model.fit(X_train, y_train)\n",
    "y_pred_catboost = model.predict(X_test)"
   ]
  },
  {
   "cell_type": "code",
   "execution_count": 10,
   "metadata": {},
   "outputs": [
    {
     "data": {
      "text/plain": [
       "1170181.4235929842"
      ]
     },
     "execution_count": 10,
     "metadata": {},
     "output_type": "execute_result"
    }
   ],
   "source": [
    "mean_squared_error(y_test, y_pred_catboost)"
   ]
  },
  {
   "cell_type": "code",
   "execution_count": 11,
   "metadata": {},
   "outputs": [
    {
     "data": {
      "text/plain": [
       "397.4827944395817"
      ]
     },
     "execution_count": 11,
     "metadata": {},
     "output_type": "execute_result"
    }
   ],
   "source": [
    "mean_absolute_error(y_test, y_pred_catboost)"
   ]
  },
  {
   "cell_type": "code",
   "execution_count": 12,
   "metadata": {},
   "outputs": [
    {
     "ename": "AttributeError",
     "evalue": "'CatBoostRegressor' object has no attribute 'save'",
     "output_type": "error",
     "traceback": [
      "\u001b[0;31m---------------------------------------------------------------------------\u001b[0m",
      "\u001b[0;31mAttributeError\u001b[0m                            Traceback (most recent call last)",
      "\u001b[0;32m<ipython-input-12-dac3b5cfa6b9>\u001b[0m in \u001b[0;36m<module>\u001b[0;34m\u001b[0m\n\u001b[1;32m      1\u001b[0m \u001b[0mmodel_name\u001b[0m \u001b[0;34m=\u001b[0m \u001b[0;34m\"catBoost.model\"\u001b[0m\u001b[0;34m\u001b[0m\u001b[0;34m\u001b[0m\u001b[0m\n\u001b[0;32m----> 2\u001b[0;31m \u001b[0mmodel\u001b[0m\u001b[0;34m.\u001b[0m\u001b[0msave\u001b[0m\u001b[0;34m(\u001b[0m\u001b[0mmodel_name\u001b[0m\u001b[0;34m)\u001b[0m\u001b[0;34m\u001b[0m\u001b[0;34m\u001b[0m\u001b[0m\n\u001b[0m",
      "\u001b[0;31mAttributeError\u001b[0m: 'CatBoostRegressor' object has no attribute 'save'"
     ]
    }
   ],
   "source": [
    "model_name = \"catBoost.model\"\n",
    "model.save(model_name)"
   ]
  },
  {
   "cell_type": "markdown",
   "metadata": {},
   "source": [
    "#### 1.4. RandomForestRegressor"
   ]
  },
  {
   "cell_type": "code",
   "execution_count": 54,
   "metadata": {},
   "outputs": [],
   "source": [
    "regr = RandomForestRegressor(max_depth=2, random_state=0)\n",
    "regr.fit(X_train, y_train)\n",
    "y_pred_forest = regr.predict(X_test)"
   ]
  },
  {
   "cell_type": "code",
   "execution_count": 55,
   "metadata": {},
   "outputs": [
    {
     "data": {
      "text/plain": [
       "1191685.9951006488"
      ]
     },
     "execution_count": 55,
     "metadata": {},
     "output_type": "execute_result"
    }
   ],
   "source": [
    "mean_squared_error(y_test, y_pred_forest)"
   ]
  },
  {
   "cell_type": "code",
   "execution_count": 56,
   "metadata": {},
   "outputs": [
    {
     "data": {
      "text/plain": [
       "408.5088306363602"
      ]
     },
     "execution_count": 56,
     "metadata": {},
     "output_type": "execute_result"
    }
   ],
   "source": [
    "mean_absolute_error(y_test, y_pred_forest)"
   ]
  },
  {
   "cell_type": "markdown",
   "metadata": {},
   "source": [
    "### 2. Стемминг"
   ]
  },
  {
   "cell_type": "code",
   "execution_count": 58,
   "metadata": {},
   "outputs": [],
   "source": [
    "df_stem = df[['text_stem', 'rating']].dropna()"
   ]
  },
  {
   "cell_type": "code",
   "execution_count": 59,
   "metadata": {},
   "outputs": [],
   "source": [
    "X, y = df_stem['text_stem'], df_stem['rating']"
   ]
  },
  {
   "cell_type": "code",
   "execution_count": 60,
   "metadata": {},
   "outputs": [
    {
     "data": {
      "text/plain": [
       "(132849, 1000)"
      ]
     },
     "execution_count": 60,
     "metadata": {},
     "output_type": "execute_result"
    }
   ],
   "source": [
    "vectorizer = CountVectorizer(max_features=1000, min_df=5, max_df=0.7)\n",
    "X_countVectorizer = vectorizer.fit_transform(X).toarray()\n",
    "X_countVectorizer.shape"
   ]
  },
  {
   "cell_type": "code",
   "execution_count": 61,
   "metadata": {},
   "outputs": [],
   "source": [
    "tfidfconverter = TfidfTransformer()\n",
    "X_tfIdf = tfidfconverter.fit_transform(X_countVectorizer).toarray()"
   ]
  },
  {
   "cell_type": "code",
   "execution_count": 62,
   "metadata": {},
   "outputs": [],
   "source": [
    "X_train, X_test, y_train, y_test = train_test_split(X_tfIdf, y, test_size=0.2, random_state=0)"
   ]
  },
  {
   "cell_type": "markdown",
   "metadata": {},
   "source": [
    "#### 2.1.  Линейная регрессия"
   ]
  },
  {
   "cell_type": "code",
   "execution_count": 63,
   "metadata": {},
   "outputs": [],
   "source": [
    "reg = LinearRegression().fit(X_train, y_train)\n",
    "y_pred = reg.predict(X_test)"
   ]
  },
  {
   "cell_type": "code",
   "execution_count": 74,
   "metadata": {},
   "outputs": [
    {
     "data": {
      "text/plain": [
       "1158799.2437284607"
      ]
     },
     "execution_count": 74,
     "metadata": {},
     "output_type": "execute_result"
    }
   ],
   "source": [
    "mean_squared_error(y_test, y_pred)"
   ]
  },
  {
   "cell_type": "code",
   "execution_count": 64,
   "metadata": {},
   "outputs": [
    {
     "data": {
      "text/plain": [
       "407.87784601666476"
      ]
     },
     "execution_count": 64,
     "metadata": {},
     "output_type": "execute_result"
    }
   ],
   "source": [
    "mean_absolute_error(y_test, y_pred)"
   ]
  },
  {
   "cell_type": "markdown",
   "metadata": {},
   "source": [
    "#### 2. 2. XGBoost"
   ]
  },
  {
   "cell_type": "code",
   "execution_count": 65,
   "metadata": {},
   "outputs": [],
   "source": [
    "model = XGBRegressor()\n",
    "model.fit(X_train, y_train, verbose=False)\n",
    "y_pred_xgboost = model.predict(X_test)"
   ]
  },
  {
   "cell_type": "code",
   "execution_count": 66,
   "metadata": {},
   "outputs": [
    {
     "data": {
      "text/plain": [
       "1212391.9091024338"
      ]
     },
     "execution_count": 66,
     "metadata": {},
     "output_type": "execute_result"
    }
   ],
   "source": [
    "mean_squared_error(y_test, y_pred_xgboost)"
   ]
  },
  {
   "cell_type": "code",
   "execution_count": 67,
   "metadata": {},
   "outputs": [
    {
     "data": {
      "text/plain": [
       "403.4024438374712"
      ]
     },
     "execution_count": 67,
     "metadata": {},
     "output_type": "execute_result"
    }
   ],
   "source": [
    "mean_absolute_error(y_test, y_pred_xgboost)"
   ]
  },
  {
   "cell_type": "markdown",
   "metadata": {},
   "source": [
    "#### 2.3. CatBoost"
   ]
  },
  {
   "cell_type": "code",
   "execution_count": 68,
   "metadata": {},
   "outputs": [],
   "source": [
    "model.fit(X_train, y_train)\n",
    "y_pred_catboost = model.predict(X_test)"
   ]
  },
  {
   "cell_type": "code",
   "execution_count": 69,
   "metadata": {},
   "outputs": [
    {
     "data": {
      "text/plain": [
       "1168818.6541218676"
      ]
     },
     "execution_count": 69,
     "metadata": {},
     "output_type": "execute_result"
    }
   ],
   "source": [
    "mean_squared_error(y_test, y_pred_catboost)"
   ]
  },
  {
   "cell_type": "code",
   "execution_count": 70,
   "metadata": {},
   "outputs": [
    {
     "data": {
      "text/plain": [
       "397.71569585067414"
      ]
     },
     "execution_count": 70,
     "metadata": {},
     "output_type": "execute_result"
    }
   ],
   "source": [
    "mean_absolute_error(y_test, y_pred_catboost)"
   ]
  },
  {
   "cell_type": "markdown",
   "metadata": {},
   "source": [
    "#### 2.4. RandomForestRegressor"
   ]
  },
  {
   "cell_type": "code",
   "execution_count": 71,
   "metadata": {},
   "outputs": [],
   "source": [
    "regr = RandomForestRegressor(max_depth=2, random_state=0)\n",
    "regr.fit(X_train, y_train)\n",
    "y_pred_forest = regr.predict(X_test)"
   ]
  },
  {
   "cell_type": "code",
   "execution_count": 72,
   "metadata": {},
   "outputs": [
    {
     "data": {
      "text/plain": [
       "1191177.760735872"
      ]
     },
     "execution_count": 72,
     "metadata": {},
     "output_type": "execute_result"
    }
   ],
   "source": [
    "mean_squared_error(y_test, y_pred_forest)"
   ]
  },
  {
   "cell_type": "code",
   "execution_count": 73,
   "metadata": {},
   "outputs": [
    {
     "data": {
      "text/plain": [
       "408.2917829928213"
      ]
     },
     "execution_count": 73,
     "metadata": {},
     "output_type": "execute_result"
    }
   ],
   "source": [
    "mean_absolute_error(y_test, y_pred_forest)"
   ]
  }
 ],
 "metadata": {
  "kernelspec": {
   "display_name": "Python 3",
   "language": "python",
   "name": "python3"
  },
  "language_info": {
   "codemirror_mode": {
    "name": "ipython",
    "version": 3
   },
   "file_extension": ".py",
   "mimetype": "text/x-python",
   "name": "python",
   "nbconvert_exporter": "python",
   "pygments_lexer": "ipython3",
   "version": "3.8.12"
  }
 },
 "nbformat": 4,
 "nbformat_minor": 2
}
